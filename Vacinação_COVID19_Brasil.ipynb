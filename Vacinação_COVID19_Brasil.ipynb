{
  "nbformat": 4,
  "nbformat_minor": 0,
  "metadata": {
    "colab": {
      "provenance": [],
      "authorship_tag": "ABX9TyONwRNLH4WPmDp8Zm/6qZTv",
      "include_colab_link": true
    },
    "kernelspec": {
      "name": "python3",
      "display_name": "Python 3"
    },
    "language_info": {
      "name": "python"
    }
  },
  "cells": [
    {
      "cell_type": "markdown",
      "metadata": {
        "id": "view-in-github",
        "colab_type": "text"
      },
      "source": [
        "<a href=\"https://colab.research.google.com/github/ailafelixa/EstudoDeCaso-Vacinacao-COVID19-Brasil/blob/main/Vacina%C3%A7%C3%A3o_COVID19_Brasil.ipynb\" target=\"_parent\"><img src=\"https://colab.research.google.com/assets/colab-badge.svg\" alt=\"Open In Colab\"/></a>"
      ]
    },
    {
      "cell_type": "markdown",
      "source": [
        "![covid-19-vaccine-789x367.webp](data:image/webp;base64,UklGRmo+AABXRUJQVlA4IF4+AACwFgGdASqKAi4BPlEij0YjoaUko7PKOKAKCWVu1Bf/KWh9/KjIeqI3JUZLfRGJTGXmd55hHLPj+E/vF54L9vpk/q/qL/r163PUn5rPOl9Lv+I9S7/Eel76sHoRec36uP92/9XUAf//1ANXP89+33h/6QPkPtTzXInHev+a/MT45dy/AO/IP6V/kf7L+6f935aO4noL+/H23/hf3r8kfinnwZAX85/r3+i/Of5F8Sj1X2CP6r/nvRm/5/9p+Z3vg+oP/B/lfgL/ln9h/3n+L/eH/Q///61PZl+13//9139oP/+ORp4/YDxaYEFiv+tp6A2LeF+BeSbFXK1hi36H2OX8yeMDZxpFgGS3Vv15mqgQCe+Uq/XOyD9AllQk6j1eoRJjGkYVDAMTr39sqedyjaRsknoYHDby+Wiz5FBwDyA3ZPNrBvvEux08cTZ8VAB/bdKUZx2JQZvQIY2A/0PevklboLPkPTvazXU1M4nM8U15NFnAMPpcY+EJEy/avuKFW7Ywrj8deSdOUgU3YZggXjCEx7MGLxmWJ0HLZ+vvxfZiZ9rit00FHmFeFpB/AKS2UVk2GTn8dFntDSlja4Hgn2KeSgU8a7Ud4gzj/qOSWOulOu+NQUp8w7bFA8y8tLdSJHznmhkkzpTncF9pEgTozbbbMX8tFezFhTGjYi1lBx+ioA2wZ7PM6ux7HFmawBBQM0P4cifJR7hVv7cmtD4lQbh7QAUhP9cPJCXgzrqcKnF692GbbU848h0fVS4sn4RCKOGwhf4qvxL8bsILPTa80SVqkUXVSsakR+hzw6MglQx718AiE8JbD0IwHPxqKVLVLVoNFybn1Gshx/lqhBB295T52e7/JkD2OfFvm4L4WHxTb1lLUT18cXCKdwBLf4vUZPM6OFoKB1wuBxON9frxmbywT/y0KhQETiGspSC0PVED/tQu5jXAUaEwL24ubOj8vY/9dLnFRXcK8bpxvBM4rzdJEm+L0j3QzfAF5hb7jMWRFMmiOxMscLWv/LNwRnbDGew4Pif/MSZ3v6PD0bG4vqYJNU05oJI85efzysI18xRFErgOUhf35ljnRz6L10PzOZZYixsf9EKFfxNXDBZ6KqPU/y0tiXEj5EAb4+2gXu5a4+QpJtv1sUp1ZtfP+1PBU+aIAVRrQVQUqyPIhyyZcKvvG3P1t2C3i9vv6jgQFqnEmiRZ/Nt4iVoUuCRiuC+bCJX48vXuuEA0eJ/n9GsRTfO/I12IGhY7lQ8BawKRMxyILbaxYD95PezOn1xq3Jtk+kHiJzd5RKYGZG9hgnRIYDgnOqkkjrbwQO7zFbxmXs1LFQVkeZNUhKSWkWGS+77pP7oCyKX4m95XDrn2RuL30sSe4CvQOkXzfN+AGp7Y6S1CRCYYe9LRIxYZVlUkxeq9EIxXJXA3b1KJQcofs7lvAkqRHco8AOwYCUJUiq9BKmELsDgf4MYeiHgg0UMjOIuUrV1PLH1fKlc25rIB1vCFL/ZrsNKRtuqNI86qpKxNWVRllcnXZ6Tx3dhjzXLEMhLrG+CdotyQuuAnO7yvxrGLsDPaOrHo/Hinww97C3vcuaZdwLj8xXRH/0FIwE6qPAk+jnpndY8ou2JTFxui7mgmNsICU1PXPg5kNApMSEytGitD3ocfKkOQis8qdzjOL//2TTrVeXljtukoIOaPgDAiSHsK05KMVV77IT86ytvrSoBUdW4P/62pavr0MppBdQ24GqJ8gGY9Mg9ctvnGzAlJqHKByUQz01Y0AfecebqNfz+q4Z0T87u7Qj6wwC6GLSUcVGt6DxvdO4QMraSS3uGE2kUe3x3JpnniNn+rd8sPT7mkFZKR9tmxntUI3JsmC8qfpAoq/uE9p8Mn16YrDkiHP3RdAwmUwxlMUIcZObp4M2i5OLjf80v9ARnyqKSw8GVaNEOdDNvcoHK/jX/Aebdl8wSbVssn3Q9NIKX8VMvjhelWdcl2Fldid3MYkn3kLPXORXjW9HseJAqetP29uhtrNg6IAj4Efi3RR+dBB4l9LBhktXGnVFbwdm47tX19aRU3WQEhMfpa7gDs5pbOy7IEUFo5l/doCTMpDsibgDoypc76/+UCreKB3daEGlNgZx4ovhiRUjql3h1frUGYfbubf35TXy0FQrRAxseAZ4XWpY+R9dMQGb476TEKaWmXEz4+Hk4G8+w5S9fVfr9Ygtubv7OfaZwM27PYoROMx4WHLz/pabYtUKLjnXvJAe0TPys76LuJWxtALujbjfkv8WvvYlnrDIIDwq6aKfsjRM910le9L90xdiAcO3IrYhthYSH5f7Nn+ohpRFlEzsEe0b4YMDXSd/NXJded83fD7ZE49ZzLiIozJkiP90/TTZBPfsOFH0tu0gVmGQYzm4vVxXJW9mqvTVhc+vzNetBGcAgHdS76SM01K+4kdOmngycFkFPhRhE6lzX3ZMJOpxRTT8Lbx9hmsG/dMFTETuDZBASk4iZ36FMgey7FsH5iUgZHzYsMWIFeYqg5GihEJstXVihyTump7qwHzalw8Q8cAATZRDSc4ffotSx3gPzJj0ptyU8ioEaZ0PFzX63U/K+3IwEvjYwA6ufI3RFn6pBwBnfd0uFxUioeCm8nraIYaGqKe/pBuHbyWwE9nDvxYo9rAe22xt7UElg1suCITZaie6kiLgVkB0I0pZTK0/XRjafKXytQ1KBLa14AR5Kof0GpGT2Uy4rM9PF+PjbaPDGjPkJGkLny3flth5dz1gl2OC3DGu7R78GMLleqEpa6nVDyS9dihSQ0iQs/fQyt6FcZTHRF+lGyJ4l88c/4Zi1XIvWazYlS/YNG2M59YlguDDjDAUFh3JtzQcl25zkfuBo62XwVGO5b/8qGEXFRMHXhl/WZ6ZfAS5QdYOxYoG7172kd//FBmaAivtuphmtYUxHBLvH1FGiWeRj8FTmSKAtcFisjHMs/9SpPnKv3h4EO5TEw4FVAHJqHtucO3ta4Ejp3TJ02twAA/v1fhiuMJCjWAehYWp//Sbr/+I0//Sbr4Hf/5tLJ/8nn/5pxwCOVR8X3Vy1S6RJeP1F+D/skaYZd2laxoeg7o3QVfP2HeB2ItZN0+J/7otL7JFfRYrsy9J48YVt2YN0ZEM5PksJe2L9Cp3Hz0GzNhEDwA40PBB51MdTuaPd2BO1PBCqUzdSIQafznn1pB+hqxog2SWSUkuMjVh9e7OuuVIr+G+TTbqoI8UVFTmJjlqfraW+5SyeizuwfQ+J96Hp/NYruWaGvLYODNbCfR55gRTvGk4qej8mLnICBdnmGTiSemg3gzMpogU4ybBLrIP0F8qfPZeu7K6+/X6edKi3QHD/ylg/uslpWuqOlnPs3U1XKaWNgF64kKG4QckF1rNFc2uFcyljJBG67PjRuMvVHJFwSBQASkoNFi4q57ANlD8bDy1NFwDr2QxRK+VlRO63WcNA43AIio3YQPYh9qtXwtJw3QLRic4cU0ZSdJY2QnCZT5P/24t/bim2oEZhPva/xjTXPue9agVdVqyfSb/ivL1sE/iK3SCaSxcWe73BbIKPOldKPV+e8NwjVAp9wuWtIf0xwDWisQponU0ZzNPVq04rVXM39pfp4QIeyAc815BjghjObX07eJJtphrU+bkAMcwpR2KgZcu9NZNzggkMBQkl2EEfEPx0xwmFTuXcItiBrl5N8gqfvb1JQvRHBYg/ZkoNM6e1ufCJrXyOzk93Ig1VTU4316P1hOSpEoeo/hqcFsiSkxeTu+Mg/MnAT+R6nprFrVMYQMHoMlh/kVi3hmKGewcv/v12D3J8AnjxqPsVX+/LUQhLdFeqdUAw/yXF5sI80++rJi1H3v6yD7FS0As+iSJSv9ChO14E+5pLqQfGUe3QOLD5rnbNpnHu7nCTX8yzr37UXY8pF762EzfZ0yFJqtcW0RIhHsNrVaLzPHuZx9yQMzjQAnG+aTe55OQdahJWRwT1O+/HStYfBzIQRKbuKztuVqY6OMTWObeOFmfcQ9ZNXLKHfyza6oIEL1xrvfl88HvqVXsifnaDTZRf6BEhuIY8dLuwXZeR0g90zqyvyV1J05lfGI5cwv0cqLmDzZm3yFbC6bha2PRIs/GCea0ehEdUFvt0UfRVmtOOesLOfyX0wAm0vxcRHvTsJ+n8iA7WKsTECidGd8GKSmhkS7CHC22LcJhgG3OvimS4JJ79/eEcQyItuPwE4NLBXc1SuQtSiha5jlrqmJsStdGyC2h2Wezy7dYZmXxssiCz7wm3MyetPPWUXJPXmTMpix2vXThIZ2YtoF6vPVd7zyAKfZc/0y7nRzNlZdZKGhlwdsbSvZgHXoemc+BJKsqVg5wFqyVEp9ZNkhZlkrNOTA7yMdDIj5Q4UtytZ2BlYH/Mh1bvVSvZ+Nk1+/kMUqy5YYKbDpbgB/b6SZajC9iplKAWxGqimPwVPCWqJZcbDRkoJgnQ3FIPyYnZzRrlsVfAsS6dKJIfkGbtOuFKPVdnuldOdzzQVm+kJ0gUpBgA5dzMjJSCNPvGvYwMLiUMd18pnxrpZqL6C4/nLjj3zrMSPl3u7f70KZSvOJtGj6IwO56iSzJEhp4T/A6SBiH3a4eKSwNYHezBOyqj+o28ATMmzormrA1Cihh34HI4hFCE0MWsnEdT9o+RUMXQz65B3VXfpDinJlqBE4/RQcpDzYE2jUJGX+LSWsnnerKaYpmU+nAWr7J8Xd8ttjuVuBTfyV7N15LNYcicrS5T+0UeekRjC8vQMilWrmC836W+1a8jeRsVlgLPb+SpumYiG78ab8Uvbw0PsGhqYnLFzRBN4w561utA1BiehewaGCby/UKvHDxl2b1NH+B59GBQCiqDiEFas1+S1bLWF65vi75ID+OJUvgHe/2NmDu+Cm1aggrkVcde0vUv+9Uy4BiiWxAovbEkGgn0bsF2AoMboqeqo/j3o0cOlLfeZADahRNgKI5Kjx2tY09ePBbevEsDgIjMuRbZmJm6PhxW7nqo7bshlnmVxOF/7Qh3goPg/S2MRBLeRnbiiimFuPgZav6xOI/qmSZQtiM2C6TZ+aoW0X7VFSYaKB3UbaUldJH1WeRDn/SsgDd0xzzy6WOtSsAhiY8p1AGC6WinR5LGplm2Vr0sCkJmFu9meYdiWGDXYoVOwSRaBNHv7Zn8WfocNoHeYnYu0+C329s9mhIxrk/l7UoiAVAhusXFH4dE98lNxvSahrtJxf/UReep47/e1DXoAFv0EnCoqDWqqzoTg+Ay8eyxQpCT+v551MmPSr4oC7u/0cKwwkJmDj1UhFzHL8vNUiGff7/h6WiYKeUkmyBLnqkF7CBqLN4siI/8KF6Z38t8z1Rz7AXJpsum4IncX1EQIiz1t2mr62SbFgLvE43mzhaBjn+Mipe3sXAZr5BJlP4kciVkhGt0GQDVhakOQdaq5biEZ9i64z4nLuzmX0JHVxNmNzJD2FDTc2X67pGL0SZalOGxNH6IgFCcemhPStBKj+Wn4Amh0gw1FqiNlLvAhiLz02hQDFnn76lQZeqplO0hGGDkZ4xy6wKxSqs/afRtjIB71SS2rNJOh4xlabvK19nbI6XjV0W288cRN23G85eekm/kvD7m/F8CdvwX7IzKdBn0PI6t96T/3SVRlbPon5GyG1E7RRyd+obuDOtvMiYYnQOLRALcyP52lgfe/nlcifcYqM9q7fHEWpsU5pAEqCArdKr4v5fiRDMrrrDstq75T9kMzX65Rn7rhVpE2Dp80tGM5NuHJ7pOrRdgyeQxoTj161dkA3QrStvlB6hvR79dS0Nc3zW65P4046cDvI9VoyWNzogzYM7ZaDZjgl433yZiIgyOT2GJD5tU4pkDcICbZAWtemvgRmxDyoA/8bZrmGFQfwBTbO6OmKrHMQoe7SwwlN1UjJ4xoLeBetlpsfxiAjLc2o0tRIth8lsbNMB2EXptYA/RPzYP/E5Hfe1Ums1L7Aw6DyAOhY9KC9+NywNMrPPRC3IGi83yprkDdYaoT4YOs4/klJQz3AEnvReCJtJApnfvAL+VNYDSZnLxPe8MX5kmZFgpnqm0jzbeLLnAMwAMv4oK7Au+ZWqE1qIyiH52d8j37Bs4Zcp1yqTFzW0pW8rEpkvIdpvco+Zg0VjTQDYj40gHXyssubONmdF5wxPLEijKDsUS6ADg2kD1BZBu7iibPUQ2XgiEibVSSvOZGkbHTj6TKNo92PQ1QJxWlZZzlPxrrRynkGDGNpztUjrV3qgjK2OYgV1Ul97lMC3TmtaMp2gL3OlDR4q/lHLIDkPSkxl8LDRVCqjxWBzY7Fqx6QJqg9iDHakcRFZuAWbQFxg7HDwvOkez+RD1l68H1cQrrJrALzclHr8hOOTT1IZEPNSGzP6rh4qPk2uhAppXivhlQ2VARDj0jdQbMfS7yFGIGfIsPUJXBovdNbdHPKrAXa2xFBpaaFji4q146VzCOo7vco7RkvCUzLOD4aB3R9VDdDz8Vpaa4NSlK/UqjoACSfwYSTS8Ote0Pu2jqRelzGMKSWtflR36iU7CoiOHoK1YM2DQ7vsmI4AbTBx2z2C0j8fJSO2S38xXN4VlIqnvv1NpnwrajRUHYUu6qqoP4+2WFQeWb1XPPjjx9oZM24AlAfs2s9n3Fkvo8KeZrS/T80dHyUG7MGuvYsq0KK5R+cXrUHR+PDUCPOv6T4aTfcbuNb0GgXkLZTl/vgPXTJ41gVAdlAAi6m7OnDDIZI05Cm/Tf9i8JG9sESp2Gu+r7nwtHwlFhlYuaCCI3GOp4JeQo3EPr51MYN82+rpSu67XudK1VuVqD0ONXzLndS5LbkcKv+LvOmy63LfddA0FL5qzPVSv8KfdjgJCbD/sUPcGnsYUYrMFhcfFrHkNLQEHfh8YJBwJPGP8Jh4j1cohT5VJXt1lxN0gEjtzbo/QvygR9uKhwAHocNc8zwNGoF7m0A2n+DczgcCMzA03/jPA7Lkn89XYR5ZTPJJe1u4R7UigHz3CXGmC1Sb/N4rX/9Dxo3fT7IPwuOtKs162eyIppsAdCy/KHYUjH2WH+9oseFaKN31pg1SONfaoKICW/s8lRYkMnyCmQ6iUk1oRyR8b2R8KkEHrDp80h/vHcgZGbH2iFzE0VFj2N7GFgvHzCzOSca9zVSRWS9SMO+XYBprxkLE1yR7ZJvS2125lBE/eZL3oIMrkpLuJDy6hD3FyUItfE4X8NUsbvMCCJJTERgu4Fa/rOlWKKWsMvKWQIjPnNkesUsATSDIt2Qh0duVY5vaqwAWkEVP5AgH2s7+D1eOCq7ysmxAFCtXc6TavCexJqFLKgn1XZSC27aS0TzxSwOvBJqutaJ0pkUPY3t41mSxbJVF/3rVACTbz4OUx+pcfzMzBKLnk4FBz62m66N1kqbCc1MeqBJ3SqTsgHCf3hH53J3jwgUXasEKg/eBVtOWYt8PwaGP4J+Kmy9JbNtFHkvdv9hrK+NI0J3cnaKOn8z5prbYWOWYqRto6Gpyh66ITgBiTGnLaSIHNpbCkBo+1zA8pW4zSgfhE7VD7AHBn1TFBcmzDAZCHuZ3o21h93EFZkbJiHwlaRcyHv9guJDS5wynZ9QQsrRhpR77wHojuhk0UM1s1F5Shv4yLtLP2FxTK/JwY7N7wIQSpudaKzzTQUhgzcOlAbt23qYtKKC0OUOXLGpgijL2qKaP7JLXZysAH8TIAHyAPJQfQX7shp3ihSsKVcgQhgJq/k9pcLTIQsIlITM6AVg5qGAfk+1CUCnDSk3l57C4PPnjIHTU0ZBkjSBT+lVSG2Y4+FJpxgB1qRIFjsfQ9cqdi0gDhabbWn0KjQEofxL2kbcxclSwoxjJQHq0Sg0Dpk2sWAIzz85cAtfEgwX24HdGiaYyKL5mscpAn21gCvWcpoksfJRjv7Qa0G3gY8b1vUnQRvwolpBHE1TXgwvtrBFcy2JgYstooRHP7DVOz9Yt/MQHkrWgf8y4CU9rWxLKx19T8QiZPWjCtQSLMrqMeAR9FvBTsWFkkjVb3XiWmieA37FyT3VwvDz4V2h1IAxw7S9wuOlPNuqG/TXLPLG0PC4Oq32uYr4D2jTVvh6HY2I35yAWb14p+5WPU1ISMw2Xd5Yv8G3WCtxCT9UmXOj21jm5a8BAJHjOnMnZuc/hOuej31xRWrg1gYTbqRyx0quncMQ2A8j6b4mUxpyo5b/6/FK5Mv+NTpgh4MxS/+vb/cNV5BtaeV3CJpw7N/VYdELGJ5/47bn0SOGM8WpOfeqzP3y0pTtHFNVRUUjZ1qmC/tXnP/OzuQTWaIfKdcw7gv/qJT7eSz+hrMGHXYse7VYm4Gz7fwGVfYWg8C1oBBbOc3lfW4+cC7H/p1n3kwG6kq4ps1Zcx0IJjGmCljmbY1jgFeDzk1a6BUt6VOE7YMbW1tY96IeNqvBcCtccu29uj6Qk10HyQ+ENolEj3PIE3fbQCRAWdJqOyGFV2QfCGGRbjMgPLeW5pHKUPDPRt7hk83jLKZRGY2s/ai+G3cql1Pn6X0j6BqaGj+wcRLrs7FsuIDx9Q+t407at0EMgsC9hQyDEB88dImdIfr1ClGuPE2jcjgSyL1zgc27KT2iKOwBaZRPi7ZmKHOu3CKDoPIPugDN4n/F5PRT2ozoSiGIZ5yBLUV2oRUwxGGUjInSdkLuMxaZzus3RpmICeW9q77f+AgjEh/UgkKUmNfVGL9gXYtj321crajMFJL1DOQIcvwqXz9Y6ba4+8FeGb+Vjv3EXEYblG0A4pWXnyo4VZrrCkv+bGL77Mv/vEkh7QnOO8FedbkAqQTlfNAt81fj0LX1MJ/UBrmkxp/z3mBsB1pM+mB4Y8clAJzjxo3k4skZoT2+snv6mtJ1WkZt5gemU2NOr3Q+gFC5QBA9sd8xqky0JR6jD2C1z2ArlOudRc+7xyB3gKZh2acG8qUi0mBOUOwCqgy+JRXW54Iv+C17EoU6cLMx1hD9BUh0vYkQ4nv4K+0FAOLfaXDuoVZScX90LFq66on9ZCOMATjiJNG4fSNW0ZsOkYn/BpwQtM43YMbLukuRlKw/2b/CrmO4u8Cpzdc8PLFMUEzh8nE1J4OfGUrnKNaitJshP9C5mTXhk3KLYHeisAx+wHTiF5+xH3F0rma+3kWw0VzGFI2yh8CZIBrDtbxnVPtyW7VerhtrkZrzqvcml7/nNqr3sIuUUCPHtXGFHcA1gLeiImqBp8p8U4Koj97W+KZuACQncd1dGaLYcjUElR3PsDJ9UEucnOKzD1tofp7BCS7+uzEdWy38n+QilR45LFYsVfkJjM5PQfToYA1+BKXASUuZMpQjTq03nUA21R9L/f4g6klkuhUtqfk7Wgc3Pi6JmVpj/dkICme7A1ulNzxK4k50FyknK1WIeIVXBOfOZ4NYkjIF9pkqXb2JzWRAQNwGD8sZqTH721KhCo+G2faCkF+waptDFaoWpLITIWArz7jx+ZTR5nuRtUPgfxh3zwyh8RQ5rJa/lPhyt7Oz73v2CBWEPMTfmQd7hcsOYsYTDMTYY8TOF62xDHTgxIFqtdHfB97EgBO/huRCAWsJfOrKZno8OP1WwJHLo6daW8Y+33pv6AwOYbOgze31R5v0NeUd5TraAzqZcyuIPEe+MLEQfAX6GDI12FhlZVx0NqdWP9g2vrSwAykH6VK+1D2G0XP06koyEleSFFZTfVfjarcpwD+4dYEP394gjNwpE7g7ZkgJSvYANluZC5mTQ4Gq+EIQXk7d9H/wjJTCO/K1CwUFo1CgUZgFK/uUb+YB1cdk9Gbzjg7mjB/EnV7ArT3RWtC28veozyA+aqEKj6VxrtOosdqUkWHTIQ3NYHP6U5sEgdMVn7L3ELFPSUBjO95zXhvt51ytz5oo80AILVtVBXRIDutfomUsdd+b69apc2cOhmK3LEMtBJSBO0YieQ6jQ29uI5WCmxpN6VdHwfnHXVLalPGEV6MHfiY8QuLZCTZlGoztyHrI/Zsz82He55607tDonpVqAjGi3vmUoRoQFmFmENWU9lwn46SGHxZAJtkNmdLTJ1YJl451b3Yown//pCUOfd0Diu68JY4r4jFqfDNkY+qFpbK1vH7JINKfQGWZe7si41+9vYvuY0Q8BfP73CA1CuBSEmqexjQBWPZkBPePkpB2z1YT4x0VMQBkBd+mbFap0SqZ3q/L6BfQ91hChEprcS5TZCfHWt6ojk/7fKhVNkxvNBV6Eu+8WpJVn26hKakMiXXPssxDZonYLEolAKkoUisi0bQ7A2j/JPkDetk/k1yAFrTIOZgpz/rdUFZ3cpxDkiVuwU8rpSNxZ5bePsmzP5otBiR3xdN7eKI0TUpQmSaDLlonB/wpe5HrS6o8fpNYjPhx0tmYWTOgO4KlBOi4bhqhK5gRi8ZGodzA7OLDuAIoljiF9lThvVD01hV5RbP33DlAKIcgVeYaRiP4D7gQ4oCzhaqCf5vzK/kd78hzD7oM2HWGCR1eolrtwEnxnL/mFUiAdIkQRfOaSgWW2CafRJqF8iJ9lAsbcgKMf+Z0Nxqz5jOnG5HSoQyri+5jMnOxxav1vN854YcVk93mvQ/gxEYfcQNhsRE9I2asquTpco0zOS4Id/Mc0xWAH7l7LYY5Iq+rfQdaqvrT4fdxJlXniPHjKG/6cv5oH/Ewa7Fu7DzqgYzmHh5EtX6jckAGqLhB/GOSw8Q6mCoB8c2bTtftVWL6Z1+w2DStGUHuJXNFAQpo6QOm8HQLDaFHL9LEhfK4A510xHaAmHAH/7oJfy98HavEuR7tzpu2zo65jU8LezdmrpUAenaDOjVLntZoq04JMynoNEnyYiUlAMr/WxTzc1nV+xdBYjgWckuN5wTOqFWSsQfn65AyVNFF65TcMaIm+/bI3Vy08pyPpC8MNEecLifRaRJgz6+ZLK7NhshSH4q7pWXo6z2ZKwGt6JYeV9tl/WhIJpJmQtXagDzSbuwJiROlxvgV9kLAlnB++JGfl6dbqso2QAo5GztWIKdfCZnFPUx5pO6PivHr7TrNhbQnI4mzMVe9ZXLxcblOhD5A5NRQbeohQGP7VUAofxkhWFdO342Ddny1XiryJSgosmU5jjSlVXocF5RunoIQcipTmay/rnFARGnPr7wxMNSGtodD8dqtrE1XxjPDfugOk6BAMjJqE8vauAMrvb7sl+dnWxy13FfIkRh9YfkAauFJvzwpdxo/BvUlEodKGvdd6t0jXr3yuxfz2GHdk465nGU10sq9n/NsudA5qCMLX5VqIg0vJ/9+VAS0k0MlLXa9J5mK3BqPetln3kmuOKKBP1RaRcKmihW3SlXB8/QP1XM4W9n6fjue6pyeoh8DjHioXgeOZLji5ghgkGfaQGiPD4aJmOXWEVeEyhvvxFo2t7BRHw9GeYv03fz848O3LTt74z9nrNZsryZ2DdtfMdPhQJ05jHswtRGwzKnneNJGjPAA2MZTYUjc7LSOeTVAAUqz/64IsOklD9oiws4MLDGtvGeHIKC52ktzo3sCVCHK3cVuwH4QLSTfV/+IvABzBcqDgT4gDthw4KuARB701LEyYG4QzRch48aoTvpjkVeMxpCnEW6gtEJc+OcFu4B0Tdob5fdBZk20eD90hOuiKY0d6rEA2k46YD1CAXT/6ZX7g5bywE0SzKvVhcKsulxxPW6EsEqrmDU27D7LmQMcD+hTRUepCJv7AZ1Otfg7yD5+b9Q9gQC5A5TdHV7KWl6YE1Ff4IS6jiH+/i7H0u1q/CGGz4GwrfgtLUwzq1vUEacaXFA9dnDujDDLs+uaTU1G7ymJzYt75J0keZzzBVL+jmNwmVCbbZpyloxc+Ipk+1Uic+WqwFGy40Sj30mOP7jHJ/JlwQMtCAMXvc+UyM1rO/whXgfMzjCn1XGUfjG6XU9WfQMMNXKtRlCY5eQ8HKeqa0LbYAqxjNvS6zf0MO40BA0Up3CaQ09PhUKGgO1obggNnrTxohHQFliwiS44QER46H8ZbFImg8gNX8QwRg1wshxLeLPeI3ELxnStCu42gLONFqS4Qd6SiRhduSn7Yb1dJM4uaRjFuKCQ+EOB5Z5qdIevOT+l4pTMfuECnNyjtpOYrTaDS/b1KJ7T8EXo/vQc6uLFmkk1h3CINjqyaszG2CfoGAykGjNlBVhXbnWohgYPdQ9RDAsYX3toffRt7hlsH37KLVKk9MlaiWq5BdhF2pxSk9Ie2btjXp16ogAjfR3sgZjfaXfYpfTUgdsDUlmp0nvoV9Gx+87gu/rBuDovbiZmWJwaMbiGhYBs4PwZU6s0LP1RETuap+M+tSIF6Nrg86/mB3CCZbl1XzN6D5w/dhDvnQcvMx9cIV2tLkQuvHDXYLwa/357mgEMQXv3RqeHPa2bQMlqHQqM2WM2GnxHKHMP5NbFPIJC6Aa9a6SzOpWMreDRsNDdMMc3yACXeAhWG7b4qMCuEMH1/NpkMIt+QEATSl+BorktXwa+suhjU1NElfzQUJHgAbFmDJs6vjad5UkOol5mFdrTL/VWirbjxgLMlRfmoCOqHyL6FNczaftTAdJj5dcqW9w5Yj+SB+A4zMamIULCnVIoiW76ukaymOSmmIT/C1cgxZ5prMRXRiSJ/gR/aFXUn3JnBdfoIp/fogT1eXtDCPeHFC8cKS1oTlXJvbq4aeRufSIi0Anqjni729Hxy3aI5xAxlbK1ulVmLQfgkkrs7VUd/IM8jJbJkD4MB1V7vtakAbW66KXgAMxJ3AJU+aF5JtlLlZphmtmP7/kiX+GqRWx5sT+2Un2nlRQU/EKrA4OWiOiJ6tUh2QNg5JbagTWc5t+rEiAAAREWGAo77Nb8O49ApdepPOurKd5eY9Wu/mq5cTKAFcgSgFDINaoPKazSC7aJF2hJI1V+HX9Ms1ik9NHbgq54kRD6i82ghW4jlWz4EIhMb+LBX2sSDEZA2F54ZgApU2453B8XZZLq9boSLgZzHm3xOaVMSsSHk1psdKsXeb9LePJOx19ivMQECzY0YRvDp0tiHGKFDO2zZPs+ngWvDxFCFfOAP/PjqGGSjt11YlmS60tr20mmz0ylW93qBKeIpwjVIqWpwr088Kee9OcO0llsJftiZ7EFzgDuZEfs3rfEZXSKJllr9RYVpd+coR9vonhOeasQSBQtGEk3zTYM+culUqjPId4mJPtVBKEflrMGd56qT6Pi7PE6Ut8HyuPh0NyXP/WoBBTbC4kMrvM6WeC00DkRITixqRweWXIjNIwEsatt4Sd5hLRL6msXiAUEF9N9UdttphUZlSEF57UiRUk/kS6pjTjZu/eRkbpPW8mQ/iRtwks4DOerN4Runpkd6DEle/2RJJssDk3HlQ2vmHPXC6NwWsrrR4Fe51SVC7v9FNLHO7iu2UvT9iU4tnSHQBc/H+GyC1EfiS05JhcWr5o/9ufXEG5S7uW0BxB2jacPxAZb8DJlfD3t3BeDFP5til+8p8DwLx+uOC+yLmXuTrrFZmv5XOPEdyn3/3FXw9/JYwkUe+v1XrhR5eOdUmdFrVGZsIZ+aUa5/2Uwt2JGAtPXFJMWlWBykToR9OR2kSaqAgtyMJ7uf9/rdh2lS77LmZwhYPPoSh0MkLZEn4tEC0B70Evrg/vvuKgeZUdXfkOQ1stRKZJbnomtPfE5qw2eEpA0y16HOWSukXpSuHqOjv5CE4jLciPzU8/FbRy0UQYTT/A07xSjpJlFRhP4KSmwnDAedPwHZraI1mccKYRagL+k9djzUQVmohJeQE68rXPnEpaEGkgKWsPmo7wzqjNU7jK5Z+jqyRNNuXnIOnoryMbj0DMLf43kORUam4ul3pXFlRnXqBEec56HytQPYbMRrD6Rup1s9SEgyUbORtEMYzafexY7SqwFz7F96oFDynZOdMxSLOorBprnatZrwzYOhBoSu2qjIOKtxx5OLsVrgxvGt0AXTxG5DrYGnU9PC14gPcW9dSIJ+KlBnQCuTIYUNf3C2N/zXuSl5sFWCFLy6OPYW9ZFnUJv1cSmh7BSsvLKffhOizAyB1IohgZs3hPQiyDBpAXfq01xMfpTKNQTzBIHJugZjlXqEs0N57eklD8LrNzV6srdkw7waHxcu6ff5pZeCA7dF2soYmoRDMbc/GEnVwBcFkHxDDskvpOrMdOY/gDyeZnLQl5GbqLaK3PWqzJsORa2PZJNs0cC7MyU6WZrMmJbLTOLDAP9qUf0UGtU8mC0ArvfOrxow0Ry/QgEc7CWIh+m0oGfcAZXn7Lwa2VMMdM8qgHGn4MStPsNm1rNzY0cUOG2Rzn1SoAy4x6HvtpI4gK6aIWIZ4Pc/fTmNgr75c+8xxqD1yxy3JzAM0w3pmn+azeYVbHssU3nrVSmGnk3F3X1+VRrelQnTBCCYueqa0YokoCa9M9sosryZe1cXr/bU+hmDpemodOs0aAFb353f3VfuknJ1wXEIEWZbljKROP7cqrpVbxkt/zh+kmoYPMmRiTDD2LtOCExodJKJ+XItS88lOCcj8YQo+ShIjU3LKwwFg0zwcqStAzWVf0y/HcI9soj7kHWZ39ggUIOmuuhxt2oUPnD2vk0RkqEmXroS8ik936uf5jfRJm5yXu+Bwnkv2WI4HNCh+30m0P4U3z7h26nEOnQtkycPWr7TucakAXzFq6dU6saXP8FDeuP7Dzqpuvxa5UAS1NYdY6tqr72Y/G3A0XErMBSQSJkMa/hsLgRfppXvAIn9U2kuxRLxYKttCy7pBBuVn6Xv19hZhRqvETQgslBw2iAEakf2KRyFb10LOIBLatpLPTL0wrtfFMr7LvT5oR0Z8YXN6w5LgTs3NTO/nfvkjR8beqrF2ntp9yCPwKJaQ9JXrMkTHx/VO3YPOLnZ7GADaKboPHq9lC8s9PLWP0ZJipND6OlcGMgDkkZFw5R9g4QtOrmrM4ctQ1xGZOpi2aJO4YTAdkWNAgKg0CawfiEL8o9CHxg3ASXCIcGNJXq2sOS+jvezQZ5TmoATyrp7E5PcAXzto4G7WbjjVhB9+7wdrCI3JSewl6UE5Vq9jUzmUPGA73/t7roDvmkJBJRGnGPe60DNRpducobbCKX9ZamXG46jz0R/R3fomFJTQFWVN/Yq8oU8ax6f9pzgKlKv9UItQSgL6JFJH71fkpar4ZtYNjk31H4Tc6t95dvuxlvP8Xx+5QoUenW+W2UlXKXt9HXHxf9/18h0UK0N14UCgEvJvKBNjJ2YCZJnFwyUvfPvVGfdr+iNe7A84yUYv5yc14RYifZo8KJcOyi8L3OoIfBLVg5aC2cxKa9nSDle7ixsX1cwoNz+loYmMHUaTn6unaJrpM9BKCq2fdqMhejYP5ZKT7XfNyoKTKR8CeoyZSCZ62XsUxNXDqx1Gd7PWzOXosBnAQqJdK7Rkq/uJPBK1C9SvKyZkfNcp1hUsrGV3z2F70CylWGrkWoqoqBNFt1E0C602rCOeE/MQMsvLfG0rMi6cpZcJQUPLZLbsyhLY0guAHvHrc2iT74I7Hs3z3uDbkSu4+uIUMrCbJCRr43XVYNNGaKeF+PJiRl/4Yn3yRnWWOX5KBSNZl+CMmccBgptokG/SZYgkGawHdgjvqJUz4ljTNZGzSGIhdpXes3dzBxu0cBiRE2CFsj+VpEusswdmg6OEm7w2gbRyUvboeA+09FUcIMZyTrhwRVESQr3Mq91hpxowJyxNrtGSKtjat5F7bv3yorpX25wpkM8De0JM7xzltesRWP4lQiwxEniBRJfQMyGfuOhwO9O28DcLEcLZB36P4we/lIMzpqqC/VSg4tGndqtsdiC7klnpRzJBBxUglcdV7D6Ep3inZ6LT9W+XsWxKzOsF35BrY34iCWZvTCwrwSgWk0Q/GDRx67LrW/SXcV1FWsa7Uk1UtgDGxQMjAA+iCI2LUT/GwDFt3UJPSIEnMgv5bfPjwNrGIWNETFHVJKikOW3QqQwU23kBZmB6qoA4FlxeE//ny5AcXU5LtZkkSE9ZgOphEa8GtkJpOj5IOxq5SVTIraAGJxVEW7dIzZwAOBJoQUexEO8YN2wMiFHfyO0Ex8cFI3L/T46vTmkhy6epnntVuVubA3iTdHKcSuMZS59g0EwRYRx16PM8vm2A9CIFiRwtB8S2rOkHm5YAjkDGi5xxakDd35JSqWZyWfkZjf8Rd8lKUT4HSslyOyMsD63+kmcSMWC+RkWj6MIA70KWAzy/2Pd857k70oabYChBqjhr1rk7IOhBbB26HNPKgki3H2lV4GbB7LM6tSsbSrd/i3CpWYo1glb1f2fF95brBdd6fUI1wRg0iO8EGLdz/hZwkyF4QLy6/chTaZhFaeMBfDgtn38ZpIW8hgNTY+5wwz8nmNAgwdOuGHlDc6YORcujG2uz0Xg5xIJAunxgXy1Pot+vjPqe31hfzJiw3MP4mvKkv1FwfvxDD2+VUdkifAA3Iulnf/kYVDJCkctwrH8ezkH2AhLXzWf0JAVaNXK+ITWEB3UVyOplaQs7zLDZyEAw6/k2q1Um9IJ5fFqcOLa3lGzANsSbsiY1A2kXfznZV2wwk1spcAUGs1M9F809gGJTt+B0seQyU+3GgK/XmYe3PbmV3pi4xSSAEaEwkohVNdzO35tsrx90ZVS2vIZ9GsfEYmu4NLq13DWE9NkbccG0AWbrg/TxO+OP+5gCoxTqLnSLCqhDtfgRzfBcXAST1TpL9a1FcBkC+Meh6xR2r85DQ8T7zEU/vdj7lBTH7nfbLKylcHzd9OwMyAAPyBsnEHk4+IEkGcWeEOHYU0tn0tN1dCNR1DNe3s9zjhVfRYDqCXlIgZBcmAzExc9RPD865nSkhEzPuU3ZBvSQwO6Wu97yxNwS5Jod1S8LBRK99nsWpmqsomAnUtXEZsfvqwm5cSyvpGudWa6rjAyqLBsDa4vaFbFXmCk/36fJJWMjfExEm4teAHQrNLyc+WQOCpuyMO9InnhMaF2FXWBabmU7lX6aEnMlOZtOm0nkI16wtC19CF/GWT9Dx7i60sacW0UStz8JC4AkrH7M3bPiGOzE3pDD/rDP0BDuSgnGkYBLI7xCEUYMwhmIhcij/dSqotQWfgXKYVbZ2Pi04xioBJjan7WmUUqMqjKp7qmBzBlQohep1x9jseZxqhM0WObqXMle9jasnGoJsTOL0EGo3P52gW9RRuBDX5YfYq5hb5iuckD1r7B+i4i8QGp9pey9xyNRhUMpAx5uA9Tq03TEJlGzRUVkbd5891uQlKnpJO45dVD5Ctxn9aOmcbEBT2BmP2Yzy8khFqbM9ZwRrlE3pNdfxOdF7YxBn5yu/wkKw2pao9dU6hw2A0rWUvszycnyXrzulea7tBY4VV4JKisAsm/soyQe9ATiqICLHz/RFnA0pi70MOoG2cFTpkuKhHQ4ya5TU/46jue24EGFdK80ukl3O7XpVHnvWjBS6PMKo/182AGLq3rSoYDdalybxBdcaGbGG32Cnvynzz3b0amYBt8HonJJ/4c9TlU4qhuM4XzwlPGZvPI2UvPWUHHwAANKLNpkzsAAyAYEAjhyB4rBiR/Aj7juNVKak1icUo+RLFsCROPUkfzMHb/qrBkif0fvetBXuBHSrnSdVbjDfMYKyCyc+ojlDmfNptmA27l5zFQniGjUaKzoy/GV0t+aG4AuAEILQFNYPyi4quyLoVEFo/dRGG3AFYAH6eNMUcaLrD1U1mDIuVEzBRTj1FUYIz9EkRr06HHpCbxo3UMpDA05bOLK6ZDPVfmb1yAE0qcWaNeyt6WKUP2s+e6cjHYNJmp7XpoUKJxXQw0tMiQXWF+hXmqHqtw8IX6VhMwUnS9khPyZcbEGc3wcXVxBHwQ3KSnW/nmIMrRuSma4jsudnY9yCbrv/71yH6zweVDZRA1gUdc99ycpvo9Shp1Wnp0f0WhMRMiuN1VpzjejhxCNzC/TFUJQbiFNWsIXK3xal/Ra9eWSLMv+pS2c5fMEe7UM3VlXzHP3vsathLvXzivjaP6ZXcKwjj5n7Jda9u1IY2vdZMcsuKcWnZO6d/6bXgQX+2O2lPTexjUsV8Rlyb46UT/HXCg98MTqMn8ywA8zODx/y9iWd1RtKy6SWKLieW9R0GfGBUAqqyHGIwidNCOwFBaB7ruxaapArsKvdyCTx96uRygV3VfoVzDSCM759sMvEyOjWqUV8+cr+f1KEzzXrn83qURgJjWmhDjwxad39ie/qHKa0skiN6E+XQIZ1/A+TmmWpRRjRatVMA1QjfPurNA/3zoKBOCmeejx2zUA21AspDe0bBS/DnSNyjgYQYnVApZybl8/SSnJYRuHqbB12C0Pp4dD5CnttuWtVSES4ezW4ffbFNIXSNUctZBYQfG1zfziRPE5nzpIfjVRpr4EN9CvFdE3XrDJ1Ne9aZEW2O7jgFuSIMDY/D7xChs1UlQICdQ2hY3hTYOhWo6qiri/gGhRmYOZLFFPk/VWGnDXfwEMYpRUmGsSJ9omM7pd/nEIeUzIAYgZxiHv5/3wSC4EJKWk01ZU8/BkkpCtQYBn8qiG0SaYMa8oZP7kCL3/oqyzyzgzeYChwDCfKqy0XJE6A1KlWL6RCo6fjrs3IK826Ig/nWwNodNZhUSl2CAvQokJnpqo2+arCh7JjmfNdCEQqQ8qIi3V6Rr/ak0wVV2MxDN3Q/k/EYStt2Trfjv2VmEpJTV3Kjjke+I26CWorlFlc/tSOuJxbhk2bwQLSMlXDScWcv2rq80Efyfh6g95m2MDCz9rkY2T5Bo3pzt+Kk36FFPCY4Sbrgv/ecwz8kqZSOP6smnzYabz8JBZKu4mbskmk+YyoemDDFbypKt5XAplUKDz8y2cYoZWH7cGHafIFZRcH4TLJnJ+mZAd7nA3blhsSylaP7XBdhYWkmeIlWA/Oyfo7HAYiDTPoWxARF307uzu6PDJmEukAJMS5PKiKOjQioVapJY2OEiFZxflKibTGxGSjCOeC2w5iFhjL997YaTg5bAdS0DncgVfjEQZ1KHncblw+vsOJOLrjDdkcW+3IszANs+0th1WtMjk6HgVCrez0VtkehBlQX2N+SeawAJUVANsj1vpFJJ4ZGKtrc04Sz3vhFNXf2PUKYsuiaUYI+N5sDLdmJU+i+3AQETNSl+teJWYNwVRvkQGEXy6/+cWYAmGm3eB0CYPuE3lRgVDzXggyeOT9DGAkhNZDR+k9Y4JdQrf7QfJgBlhR8BOs18p0eRycr5OkiRVznm1B2nuvBTarIRPF+6AAMqmgPFxGDqPKShcIpxDfR4lB8tKwj/U0kWPCMTJ8XyCqeqFouELBFsCJwonVvGK9QyTCtWKvw56D6QQvFqFZs4sUeJZ04u1fhITp6KoRsZ0V5ZxgTi/ZVKvjiqKGn5pjYLkdOQ2W84xNkdL37xVK3EqY3Ln6syd6uZLZ+c7ByzTvXNjXqln41MamT6E51vmz39saofrvZkHjCkkWcCelljupwM2q/2PaXLOWNmvqM3KBDDuoAly7HEzRGHtdSXGRAOfC1OeECwX7OxuWb/CJ4daBX388bCpRnSEjoOMp4YsdHZkRZGghBKalq6xAMp2fNB/g5+XasAJWH2HWLwqTGx1EZm5MSNeIjYWwOxMNPKTpOMxYvpwcoSXSrWh5p+nEY375c6H+ywfvR9dt2vCVcHokK4K7zOAqmYuKPPgxL9bXvAISHXagBO/rn/dJbW+SuDjcwZI4oKb2yfkZrKKSpRY1QO9rRvhgW98KIJIATNSbosB2+fZkzb5+8y7FvePTbZoMijj3Q9K94cH1Q6CeNTzXz3/3BXSrz+7Kda9VQskqVMBWu0J+h3bE+1Ta2un+bTiM4dA90y6Me0uc45+M73qJlL2Ejrh4N1U4PXUl608VDGtn/DnQy+V2a4j3alo12LUglila6H9CjVvyKfbjs5X4tDr9VpiyVMt7zKXnJOV0oVTRxTo6gQAghTwJDmtJvd7d1rdVwXKi8cjMT7P2jKJwGqT+5oNpChoTdsYEZjqSj1COKrfQOba1rzFPfWu0gyhPO0HB44DgOq0Lzrtd3Edjz+MOqF8HAzI5UZ7fF8MrrnqATR0obXz6u4wZOwLGzj6x6P8GyhzbR+049dCaLsMw/Rth77fnFP37o8zLr3yapFKZ/qkKbg0gaAhO8goZi2PCqlh7Gt8csDNcWgnOAp0LNg4GqwASFbgRz8GvnVFbGoRDGdNI0iuT5S7RtLvBXsRxsddVHsZKi0TtTzq7D2kDP8ILfevxU90M57hikJxftphmJRVWCtnnKmRQLqs5F+VP106MXzsb2dYH2Dax48scilQKY4Rj3rukplxj9aYGUE3FvcCtrrIG1SCTy9bC+7hCr6niPhQj9mwXFUnJ/4sffmoGv9ef47KPv8KbRws/A/ALMc+Xb9uMxWImYLsoQ2cZ+6YUZsKJ9Sqb3Hv8wAjE+Cxsg7zQh5AhhtSGZlLt5CSYqkpgCP336rx3eXudu5mjtNQ+3YbQiWM5kYsZXEf3iEITfV6m4HGErm5iGMyF0RFbl+PLQt64o1i4JM7IrC8AK9/MPK8UzgIdA58FccoKQULyelVzjCLzaYSjmRxAGUTYI1yIT5GhLBOmPd9NltF2zjLWOEDEFr5vam2ChaS1gpknaVNpcqCkmtqHVGdKtt1dQqnaBySCjJjNuIVeDQBo2tOPUfqN+LFDTbHTsoe9gZh6lARUgMQs+q5XrAbGk/UmjgZ8kcfdhQkO+YMIQdfMtmGy8FgKeg5m3gVRmxzVscTVe1kJ7DJaz4yY7zYztkQCJh9/tzbS6lOCQ4Q3/NUrD6Pq4OH5MRa8NOi9GH94Xoe+sBPcRh4sCDiNV11WSupZ/rU58tjMSI+FuPH8wxmHm3MkTsgNQzU1iHE9GXX0PUVRchi7AbHZFQGiwZFRerF2oZtQWQsJGWJsk/gvvfEtKv+5T4GMCMMS5Mz7nNgEp9N+T1Ee4RtrP1WnzYm7Kom7+4TDtCi+cc0Sk57qFq53J2cTVpS7Y8iQXRE1Y9scb6tlUrw+EIWxq/Sw4VfdRVHVtG1Ft0IZ36hUesyVpT/FgE4RIIjEekFREhlPwJ5DAoo6KhazGvR2u6TqxhfZHhm12J7a/fY/s/yOyZENzeR0cee95+qsUDLVqNGGquAl0gOZ4pGnx2pUVBptrp8RCQqtqu1pYT7qWApiHPt3oNnnb0haAjEEQBYkyTE4IngntjWJ3a8QkSSGi7ENUAfXGenQvzk/NTSYk45zJss/HKo0ES9H6lHNtvSzflbf4kL0cK/f8nJG38ZdLNYU1DRLd8SOCxdT26kqABWTo/TvEi+eL7rWVaDt3XnWKIapzIFXBxP7fhqS2GjiARj3nw783NKMNRvoRWoUqDo+jna68/LrWmKHDVnTwM8VrHiqY0R0XAZQ1AA=)"
      ],
      "metadata": {
        "id": "GNyyRjduDQgi"
      }
    },
    {
      "cell_type": "markdown",
      "source": [
        "# Contexto"
      ],
      "metadata": {
        "id": "9p-LbiLUVA3z"
      }
    },
    {
      "cell_type": "markdown",
      "source": [
        "A COVID-19 é uma doença respiratória aguda causada pelo vírus SARS-CoV-2. No Brasil, já tivemos mais de 37 milhões de casos confirmados e 700.000 mortes causadas pela COVID-19. Fonte: [Painél Coronavírus](https://covid.saude.gov.br/)\n",
        "\n",
        "Atualmente a vacinação é a forma mais eficaz de evitar a forma grave da doença."
      ],
      "metadata": {
        "id": "gW9tzCjq6s9K"
      }
    },
    {
      "cell_type": "markdown",
      "source": [
        "## Identificação do problema"
      ],
      "metadata": {
        "id": "Nuhbedpq__by"
      }
    },
    {
      "cell_type": "markdown",
      "source": [
        "Apesar da importância da vacinação para evitar a forma grave da COVID-19 ser amplamente reconhecida, ainda existem muitos indivíduos que não completaram o esquema vacinal. Já se sabe que isso coloca a saúde daquele indivíduo em risco (por exemplo, no início de 2022, [80% da ocupação de leitos de UTI era por indivíduos sem o esquema vacinal completo](https://www.cnnbrasil.com.br/saude/mais-de-80-dos-internados-nao-completaram-o-esquema-vacinal-contra-a-covid-19/)). Além disso, a vacinação é um ato de saúde coletiva, de modo que uma grande taxa de indivíduos não vacinados podem colocar em risco a proteção dos indivíduos vacinados, já que o vírus consegue continuar circulando.  \n",
        "\n",
        "\n",
        "Assim, **identificar grupos com esquema vacinal incompleto** podem ajudar os gestores de saúde a **realizarem um melhor direcionamento de campanhas de vacinação e insumos vacinais** visando **aumentar a % de pessoas com esquema vacinal completo no Brasil**"
      ],
      "metadata": {
        "id": "qwCJoXc_BK_K"
      }
    },
    {
      "cell_type": "markdown",
      "source": [
        "## Partes interessadas (stakeholders) e público alvo"
      ],
      "metadata": {
        "id": "-0st6XjADZSo"
      }
    },
    {
      "cell_type": "markdown",
      "source": [
        "## Fazendo as perguntas"
      ],
      "metadata": {
        "id": "MtcDLetZVGC5"
      }
    },
    {
      "cell_type": "markdown",
      "source": [
        "\n",
        "\n",
        "*   Quais são os estados com maiores e menores taxas de vacinação? Em quais locais existem mais pessoas com esquema vacinal incompleto?\n",
        "\n",
        "* Qual o perfil demográfico das pessoas com esquema vacinal incompleto?\n",
        "\n",
        "*   Como as taxas de vacinação se correlacionam com as taxas de casos e mortes por COVID-19?\n"
      ],
      "metadata": {
        "id": "dDAq76pz7pnU"
      }
    },
    {
      "cell_type": "markdown",
      "source": [
        "# Análise de dados"
      ],
      "metadata": {
        "id": "dQiRX_ljDiUE"
      }
    },
    {
      "cell_type": "markdown",
      "source": [
        "## Coletando e preparando os dados"
      ],
      "metadata": {
        "id": "OxD5IFNqVHy4"
      }
    },
    {
      "cell_type": "markdown",
      "source": [
        "### Consumindo os dados da API da Campanha de Vacinação contra a COVID-19\n",
        "Informações sobre a API: https://opendatasus.saude.gov.br/dataset/8e0c325d-2586-4b11-8925-4ba51acd6e6d/resource/84707ab9-8497-4f2f-8a0d-b873489a63bf/download/manual_api_vacina_covid-19.pdf\n",
        "\n",
        "Dicionário de dados: https://opendatasus.saude.gov.br/dataset/8e0c325d-2586-4b11-8925-4ba51acd6e6d/resource/a8308b58-8898-4c6d-8119-400c722c71b5/download/dicionario-de-dados-vacinacao.pdf"
      ],
      "metadata": {
        "id": "IPMDdpfpXAJa"
      }
    },
    {
      "cell_type": "code",
      "source": [
        "import json\n",
        "import requests"
      ],
      "metadata": {
        "id": "jjqy0sgpWIrr"
      },
      "execution_count": null,
      "outputs": []
    },
    {
      "cell_type": "code",
      "source": [
        "# Define the API endpoint URL\n",
        "url = \"https://imunizacao-es.saude.gov.br/_search\"\n",
        "\n",
        "# Define your credentials\n",
        "username = \"imunizacao_public\"\n",
        "password = \"qlto5t&7r_@+#Tlstigi\"\n",
        "\n",
        "# Create a session to handle authentication\n",
        "session = requests.Session()\n",
        "session.auth = (username, password)\n",
        "\n",
        "try:\n",
        "    # Send a GET request to the API\n",
        "    response = session.get(url)\n",
        "\n",
        "    # Check if the request was successful (status code 200)\n",
        "    if response.status_code == 200:\n",
        "        # Parse and work with the API response (e.g., JSON data)\n",
        "        api_data = response.json()\n",
        "        print(api_data)\n",
        "    else:\n",
        "        print(f\"Request failed with status code {response.status_code}\")\n",
        "except requests.RequestException as e:\n",
        "    print(f\"Request error: {str(e)}\")\n",
        "finally:\n",
        "    # Close the session\n",
        "    session.close()"
      ],
      "metadata": {
        "colab": {
          "base_uri": "https://localhost:8080/"
        },
        "id": "QF6JYukxW5su",
        "outputId": "e3d28be1-589a-4a85-8c74-72f8b3105ef1"
      },
      "execution_count": null,
      "outputs": [
        {
          "output_type": "stream",
          "name": "stdout",
          "text": [
            "{'took': 5, 'timed_out': False, '_shards': {'total': 30, 'successful': 30, 'skipped': 0, 'failed': 0}, 'hits': {'total': {'value': 10000, 'relation': 'gte'}, 'max_score': 1.0, 'hits': [{'_index': 'desc-imunizacao-v5', '_type': '_doc', '_id': '88a6631c-d86a-45c1-b793-a72f21c1b887-i0b0', '_score': 1.0, '_source': {'paciente_nacionalidade_enumNacionalidade': 'B', 'vacina_categoria_codigo': '2', 'paciente_endereco_nmMunicipio': 'JOAO PESSOA', 'paciente_id': '4e27f085967082c7458f6a0a00ca5919ef13c74a75036c37f4b76a049f2fc84c', 'paciente_dataNascimento': '1935-08-12', 'ds_condicao_maternal': None, 'estabelecimento_razaoSocial': 'SECRETARIA DE SAUDE', 'estabelecimento_valor': '7979436', 'estabelecimento_uf': 'PB', 'paciente_endereco_coIbgeMunicipio': '250750', 'dt_deleted': None, '@timestamp': '2023-09-13T21:15:42.709Z', 'status': 'final', 'paciente_endereco_uf': 'PB', 'vacina_lote': 'GJ9232', 'paciente_racaCor_codigo': '03', 'estalecimento_noFantasia': 'CARTAO SUS DE JOAO PESSOA', 'document_id': '88a6631c-d86a-45c1-b793-a72f21c1b887-i0b0', 'vacina_categoria_nome': 'Faixa Etária', 'id_sistema_origem': '18983', 'vacina_fabricante_nome': 'PFIZER', 'estabelecimento_municipio_codigo': '250750', 'data_importacao_datalake': '2023-09-13T18:07:01.000Z', 'co_condicao_maternal': None, 'vacina_fabricante_referencia': '46070868001998', 'vacina_descricao_dose': '5ª Dose', 'vacina_numDose': '5', 'vacina_dataAplicacao': '2023-09-13T00:00:00.000Z', 'paciente_enumSexoBiologico': 'F', 'paciente_idade': 88, 'data_importacao_rnds': '2023-09-13T12:24:06.000Z', 'paciente_endereco_cep': '58038', 'vacina_grupoAtendimento_codigo': '000205', '@version': '1', 'vacina_grupoAtendimento_nome': 'Pessoas de 80 anos ou mais', 'vacina_nome': 'COVID-19 PFIZER - COMIRNATY', 'sistema_origem': 'Vacina João Pessoa', 'paciente_racaCor_valor': 'PARDA', 'paciente_endereco_coPais': '10', 'paciente_endereco_nmPais': 'BRASIL', 'estabelecimento_municipio_nome': 'JOAO PESSOA', 'vacina_codigo': '87'}}, {'_index': 'desc-imunizacao-v5', '_type': '_doc', '_id': '481a96ae-604b-4c1e-ab74-aff86f459e94-i0b0', '_score': 1.0, '_source': {'paciente_nacionalidade_enumNacionalidade': 'B', 'vacina_categoria_codigo': '2', 'paciente_endereco_nmMunicipio': 'SAO BERNARDO DO CAMPO', 'paciente_id': '8bc3bd4a4c1fbc05bbb9f9d2c17471e9f095e92246ead629f73d8b5c6d4ec233', 'paciente_dataNascimento': '2018-01-10', 'ds_condicao_maternal': None, 'estabelecimento_razaoSocial': 'PREFEITURA DO MUNICIPIO DE SAO BERNARDO DO CAMPO', 'estabelecimento_valor': '2045397', 'estabelecimento_uf': 'SP', 'paciente_endereco_coIbgeMunicipio': '354870', 'dt_deleted': '2023-09-13T00:00:00.000Z', '@timestamp': '2023-09-13T21:15:42.853Z', 'status': 'entered-in-error', 'paciente_endereco_uf': 'SP', 'vacina_lote': 'GN0764', 'paciente_racaCor_codigo': '99', 'estalecimento_noFantasia': 'UBS BATISTINI', 'document_id': '481a96ae-604b-4c1e-ab74-aff86f459e94-i0b0', 'vacina_categoria_nome': 'Faixa Etária', 'id_sistema_origem': '18262', 'vacina_fabricante_nome': 'PFIZER - PEDIÁTRICA', 'estabelecimento_municipio_codigo': '354870', 'data_importacao_datalake': '2023-09-13T18:42:30.000Z', 'co_condicao_maternal': None, 'vacina_fabricante_referencia': None, 'vacina_descricao_dose': '2ª Dose', 'vacina_numDose': '2', 'vacina_dataAplicacao': '2023-09-13T00:00:00.000Z', 'paciente_enumSexoBiologico': 'F', 'paciente_idade': 5, 'data_importacao_rnds': '2023-09-13T14:06:07.000Z', 'paciente_endereco_cep': '09854', 'vacina_grupoAtendimento_codigo': '000210', '@version': '1', 'vacina_grupoAtendimento_nome': 'Faixa Etária', 'vacina_nome': 'COVID-19 PFIZER - COMIRNATY PEDIÁTRICA', 'sistema_origem': 'VACIVIDA', 'paciente_racaCor_valor': 'SEM INFORMACAO', 'paciente_endereco_coPais': '10', 'paciente_endereco_nmPais': 'BRASIL', 'estabelecimento_municipio_nome': 'SAO BERNARDO DO CAMPO', 'vacina_codigo': '99'}}, {'_index': 'desc-imunizacao-v5', '_type': '_doc', '_id': '86a0bc7c-30a4-43a6-9557-154499728e7d-i0b0', '_score': 1.0, '_source': {'paciente_nacionalidade_enumNacionalidade': 'B', 'vacina_categoria_codigo': '2', 'paciente_endereco_nmMunicipio': 'NAVIRAI', 'paciente_id': '4e251207ab8237619df4c188b2cd26d877e3fb3161e6977fed666c48ba88c2a6', 'paciente_dataNascimento': '1981-04-24', 'ds_condicao_maternal': None, 'estabelecimento_razaoSocial': 'PREFEITURA MUNICIPAL DE NAVIRAI', 'estabelecimento_valor': '2374250', 'estabelecimento_uf': 'MS', 'paciente_endereco_coIbgeMunicipio': '500570', 'dt_deleted': '2023-09-13T00:00:00.000Z', '@timestamp': '2023-09-13T21:15:42.856Z', 'status': 'entered-in-error', 'paciente_endereco_uf': 'MS', 'vacina_lote': '205F21A', 'paciente_racaCor_codigo': '03', 'estalecimento_noFantasia': 'CENTRO DE SAUDE DR ANTONITO PIRES DE SOUZA', 'document_id': '86a0bc7c-30a4-43a6-9557-154499728e7d-i0b0', 'vacina_categoria_nome': 'Faixa Etária', 'id_sistema_origem': '16341', 'vacina_fabricante_nome': 'JANSSEN', 'estabelecimento_municipio_codigo': '500570', 'data_importacao_datalake': '2023-09-13T18:42:30.000Z', 'co_condicao_maternal': None, 'vacina_fabricante_referencia': 'Organization/30587', 'vacina_descricao_dose': 'Dose Adicional', 'vacina_numDose': '37', 'vacina_dataAplicacao': '2022-06-30T00:00:00.000Z', 'paciente_enumSexoBiologico': 'F', 'paciente_idade': 41, 'data_importacao_rnds': '2022-06-30T14:44:16.000Z', 'paciente_endereco_cep': '79950', 'vacina_grupoAtendimento_codigo': '000201', '@version': '1', 'vacina_grupoAtendimento_nome': 'Pessoas de 18 a 64 anos', 'vacina_nome': 'COVID-19 JANSSEN - Ad26.COV2.S', 'sistema_origem': 'Novo PNI', 'paciente_racaCor_valor': 'PARDA', 'paciente_endereco_coPais': '10', 'paciente_endereco_nmPais': 'BRASIL', 'estabelecimento_municipio_nome': 'NAVIRAI', 'vacina_codigo': '88'}}, {'_index': 'desc-imunizacao-v5', '_type': '_doc', '_id': '93c2ce60-e8ee-4b2f-b5f1-75c3f84cbfbc-i0b0', '_score': 1.0, '_source': {'paciente_nacionalidade_enumNacionalidade': 'B', 'vacina_categoria_codigo': '2', 'paciente_endereco_nmMunicipio': 'UBA', 'paciente_id': 'ddae2a6fd23417576ebc030974ea4ae79b9b0b34621607300ac85d0aacfe430f', 'paciente_dataNascimento': '2012-05-24', 'ds_condicao_maternal': 'Nenhuma', 'estabelecimento_razaoSocial': 'PREFEITURA MUNICIPAL DE UBA FMS', 'estabelecimento_valor': '2148692', 'estabelecimento_uf': 'MG', 'paciente_endereco_coIbgeMunicipio': '316990', 'dt_deleted': '2023-09-13T00:00:00.000Z', '@timestamp': '2023-09-13T21:15:42.715Z', 'status': 'entered-in-error', 'paciente_endereco_uf': 'MG', 'vacina_lote': 'FX9154', 'paciente_racaCor_codigo': '01', 'estalecimento_noFantasia': 'POLICLINICA REGIONAL DR EDUARDO LEVINDO COELHO', 'document_id': '93c2ce60-e8ee-4b2f-b5f1-75c3f84cbfbc-i0b0', 'vacina_categoria_nome': 'Faixa Etária', 'id_sistema_origem': '16341', 'vacina_fabricante_nome': 'PFIZER - PEDIÁTRICA', 'estabelecimento_municipio_codigo': '316990', 'data_importacao_datalake': '2023-09-13T18:42:30.000Z', 'co_condicao_maternal': 1, 'vacina_fabricante_referencia': '28290', 'vacina_descricao_dose': '3ª Dose', 'vacina_numDose': '3', 'vacina_dataAplicacao': '2023-03-27T00:00:00.000Z', 'paciente_enumSexoBiologico': 'F', 'paciente_idade': 10, 'data_importacao_rnds': '2023-03-31T18:08:02.000Z', 'paciente_endereco_cep': '36500', 'vacina_grupoAtendimento_codigo': '000210', '@version': '1', 'vacina_grupoAtendimento_nome': 'Faixa Etária', 'vacina_nome': 'COVID-19 PFIZER - COMIRNATY PEDIÁTRICA', 'sistema_origem': 'Novo PNI', 'paciente_racaCor_valor': 'BRANCA', 'paciente_endereco_coPais': '10', 'paciente_endereco_nmPais': 'BRASIL', 'estabelecimento_municipio_nome': 'UBA', 'vacina_codigo': '99'}}, {'_index': 'desc-imunizacao-v5', '_type': '_doc', '_id': '3d1460ba-c815-49c8-9b24-fbabd7faeccc-i0b0', '_score': 1.0, '_source': {'paciente_nacionalidade_enumNacionalidade': 'B', 'vacina_categoria_codigo': '2', 'paciente_endereco_nmMunicipio': 'BELO HORIZONTE', 'paciente_id': 'e798dcd18db54985e988a7fb1786fa76b05d871da32c22740786b25486266e57', 'paciente_dataNascimento': '2001-11-21', 'ds_condicao_maternal': None, 'estabelecimento_razaoSocial': 'MUNICIPIO DE BELO HORIZONTE', 'estabelecimento_valor': '0023388', 'estabelecimento_uf': 'MG', 'paciente_endereco_coIbgeMunicipio': '310620', 'dt_deleted': '2023-09-13T00:00:00.000Z', '@timestamp': '2023-09-13T21:15:42.859Z', 'status': 'entered-in-error', 'paciente_endereco_uf': 'MG', 'vacina_lote': '210407', 'paciente_racaCor_codigo': '99', 'estalecimento_noFantasia': 'CENTRO DE SAUDE NORALDINO DE LIMA', 'document_id': '3d1460ba-c815-49c8-9b24-fbabd7faeccc-i0b0', 'vacina_categoria_nome': 'Faixa Etária', 'id_sistema_origem': '19788', 'vacina_fabricante_nome': 'SINOVAC/BUTANTAN', 'estabelecimento_municipio_codigo': '310620', 'data_importacao_datalake': '2023-09-13T18:42:30.000Z', 'co_condicao_maternal': None, 'vacina_fabricante_referencia': None, 'vacina_descricao_dose': '2ª Dose', 'vacina_numDose': '2', 'vacina_dataAplicacao': '2021-09-23T00:00:00.000Z', 'paciente_enumSexoBiologico': 'F', 'paciente_idade': 19, 'data_importacao_rnds': '2021-09-02T18:39:38.000Z', 'paciente_endereco_cep': '30550', 'vacina_grupoAtendimento_codigo': '000201', '@version': '1', 'vacina_grupoAtendimento_nome': 'Pessoas de 18 a 64 anos', 'vacina_nome': 'COVID-19 SINOVAC/BUTANTAN - CORONAVAC', 'sistema_origem': 'SIGRAH', 'paciente_racaCor_valor': 'SEM INFORMACAO', 'paciente_endereco_coPais': '10', 'paciente_endereco_nmPais': 'BRASIL', 'estabelecimento_municipio_nome': 'BELO HORIZONTE', 'vacina_codigo': '86'}}, {'_index': 'desc-imunizacao-v5', '_type': '_doc', '_id': 'f1dcedcc-dfac-4ee5-8542-5d1d9592bb34-i0b0', '_score': 1.0, '_source': {'paciente_nacionalidade_enumNacionalidade': 'B', 'vacina_categoria_codigo': '2', 'paciente_endereco_nmMunicipio': 'GUARAREMA', 'paciente_id': '95ab171051a404a19c9a690ad58b50102f7e86a64adfbbd84ce7351b3ba9a06e', 'paciente_dataNascimento': '2010-04-30', 'ds_condicao_maternal': None, 'estabelecimento_razaoSocial': 'SANTA CASA DE MISERICORDIA DE GUARAREMA', 'estabelecimento_valor': '2773333', 'estabelecimento_uf': 'SP', 'paciente_endereco_coIbgeMunicipio': '351830', 'dt_deleted': '2023-09-13T00:00:00.000Z', '@timestamp': '2023-09-13T21:15:42.860Z', 'status': 'entered-in-error', 'paciente_endereco_uf': 'SP', 'vacina_lote': 'FT7280', 'paciente_racaCor_codigo': '01', 'estalecimento_noFantasia': 'SANTA CASA DE GUARAREMA', 'document_id': 'f1dcedcc-dfac-4ee5-8542-5d1d9592bb34-i0b0', 'vacina_categoria_nome': 'Faixa Etária', 'id_sistema_origem': '18262', 'vacina_fabricante_nome': 'PFIZER', 'estabelecimento_municipio_codigo': '351830', 'data_importacao_datalake': '2023-09-13T18:42:30.000Z', 'co_condicao_maternal': None, 'vacina_fabricante_referencia': None, 'vacina_descricao_dose': '1ª Dose', 'vacina_numDose': '1', 'vacina_dataAplicacao': '2022-07-19T00:00:00.000Z', 'paciente_enumSexoBiologico': 'M', 'paciente_idade': 12, 'data_importacao_rnds': '2022-07-19T14:07:39.000Z', 'paciente_endereco_cep': '08900', 'vacina_grupoAtendimento_codigo': '000206', '@version': '1', 'vacina_grupoAtendimento_nome': 'Pessoas de 12 a 17 anos', 'vacina_nome': 'COVID-19 PFIZER - COMIRNATY', 'sistema_origem': 'VACIVIDA', 'paciente_racaCor_valor': 'BRANCA', 'paciente_endereco_coPais': '10', 'paciente_endereco_nmPais': 'BRASIL', 'estabelecimento_municipio_nome': 'GUARAREMA', 'vacina_codigo': '87'}}, {'_index': 'desc-imunizacao-v5', '_type': '_doc', '_id': '34b9b85a-c082-4639-9ee3-8684a68e74bd-i0b0', '_score': 1.0, '_source': {'paciente_nacionalidade_enumNacionalidade': 'B', 'vacina_categoria_codigo': '16', 'paciente_endereco_nmMunicipio': 'BOCAIUVA', 'paciente_id': '18c766357eee6fc5fc851b09ad742725959180a101d6799370ec634abcd39c52', 'paciente_dataNascimento': '1996-04-10', 'ds_condicao_maternal': 'Nenhuma', 'estabelecimento_razaoSocial': 'MUNICIPIO DE BOCAIUVA', 'estabelecimento_valor': '6565379', 'estabelecimento_uf': 'MG', 'paciente_endereco_coIbgeMunicipio': '310730', 'dt_deleted': '2023-09-13T00:00:00.000Z', '@timestamp': '2023-09-13T21:15:42.867Z', 'status': 'entered-in-error', 'paciente_endereco_uf': 'MG', 'vacina_lote': 'FX8946', 'paciente_racaCor_codigo': '03', 'estalecimento_noFantasia': 'SECRETARIA MUNICIPAL DE SAUDE DE BOCAIUVA', 'document_id': '34b9b85a-c082-4639-9ee3-8684a68e74bd-i0b0', 'vacina_categoria_nome': 'Trabalhadores Industriais', 'id_sistema_origem': '16341', 'vacina_fabricante_nome': 'PFIZER', 'estabelecimento_municipio_codigo': '310730', 'data_importacao_datalake': '2023-09-13T18:42:30.000Z', 'co_condicao_maternal': 1, 'vacina_fabricante_referencia': '28290', 'vacina_descricao_dose': '3ª Dose', 'vacina_numDose': '3', 'vacina_dataAplicacao': '2023-03-13T00:00:00.000Z', 'paciente_enumSexoBiologico': 'M', 'paciente_idade': 26, 'data_importacao_rnds': '2023-09-13T13:38:34.000Z', 'paciente_endereco_cep': '39390', 'vacina_grupoAtendimento_codigo': '001601', '@version': '1', 'vacina_grupoAtendimento_nome': 'Trabalhadores Industriais', 'vacina_nome': 'COVID-19 PFIZER - COMIRNATY', 'sistema_origem': 'Novo PNI', 'paciente_racaCor_valor': 'PARDA', 'paciente_endereco_coPais': '10', 'paciente_endereco_nmPais': 'BRASIL', 'estabelecimento_municipio_nome': 'BOCAIUVA', 'vacina_codigo': '87'}}, {'_index': 'desc-imunizacao-v5', '_type': '_doc', '_id': '9e75c269-5bd2-4430-b956-db7604bab98e-i0b0', '_score': 1.0, '_source': {'paciente_nacionalidade_enumNacionalidade': 'B', 'vacina_categoria_codigo': '2', 'paciente_endereco_nmMunicipio': 'ANAPOLIS', 'paciente_id': 'e43f3d58f3076425ed3dff0db91ce85d01f03c7d2fdd6fcda3f5eb72deffd6f2', 'paciente_dataNascimento': '1935-02-15', 'ds_condicao_maternal': None, 'estabelecimento_razaoSocial': 'PREFEITURA MUNICIPAL DE ANAPOLIS', 'estabelecimento_valor': '2383780', 'estabelecimento_uf': 'GO', 'paciente_endereco_coIbgeMunicipio': '520110', 'dt_deleted': '2023-09-13T00:00:00.000Z', '@timestamp': '2023-09-13T21:15:42.869Z', 'status': 'entered-in-error', 'paciente_endereco_uf': 'GO', 'vacina_lote': '202010031', 'paciente_racaCor_codigo': '99', 'estalecimento_noFantasia': 'CENTRAL MUNICIPAL DA REDE DE FRIO ANAPOLIS', 'document_id': '9e75c269-5bd2-4430-b956-db7604bab98e-i0b0', 'vacina_categoria_nome': 'Faixa Etária', 'id_sistema_origem': '16341', 'vacina_fabricante_nome': 'SINOVAC/BUTANTAN', 'estabelecimento_municipio_codigo': '520110', 'data_importacao_datalake': '2023-09-13T18:42:30.000Z', 'co_condicao_maternal': None, 'vacina_fabricante_referencia': 'Organization/61189445000156', 'vacina_descricao_dose': '1ª Dose', 'vacina_numDose': '1', 'vacina_dataAplicacao': '2021-01-31T00:00:00.000Z', 'paciente_enumSexoBiologico': 'F', 'paciente_idade': 85, 'data_importacao_rnds': '2021-02-05T16:32:30.000Z', 'paciente_endereco_cep': '75140', 'vacina_grupoAtendimento_codigo': '000205', '@version': '1', 'vacina_grupoAtendimento_nome': 'Pessoas de 80 anos ou mais', 'vacina_nome': 'COVID-19 SINOVAC/BUTANTAN - CORONAVAC', 'sistema_origem': 'Novo PNI', 'paciente_racaCor_valor': 'SEM INFORMACAO', 'paciente_endereco_coPais': '10', 'paciente_endereco_nmPais': 'BRASIL', 'estabelecimento_municipio_nome': 'ANAPOLIS', 'vacina_codigo': '86'}}, {'_index': 'desc-imunizacao-v5', '_type': '_doc', '_id': '66acd2d3-a72e-4625-a671-6a1f7535ae8c-i0b0', '_score': 1.0, '_source': {'paciente_nacionalidade_enumNacionalidade': 'B', 'vacina_categoria_codigo': '9', 'paciente_endereco_nmMunicipio': 'BELO HORIZONTE', 'paciente_id': 'f896f95f57b8ab328c7b34cf7170d91609dc87884abad821272eec50e3077ef9', 'paciente_dataNascimento': '2013-06-27', 'ds_condicao_maternal': None, 'estabelecimento_razaoSocial': 'MUNICIPIO DE BELO HORIZONTE', 'estabelecimento_valor': '0023701', 'estabelecimento_uf': 'MG', 'paciente_endereco_coIbgeMunicipio': '310620', 'dt_deleted': '2023-09-13T00:00:00.000Z', '@timestamp': '2023-09-13T21:15:42.873Z', 'status': 'entered-in-error', 'paciente_endereco_uf': 'MG', 'vacina_lote': 'GG3661', 'paciente_racaCor_codigo': '01', 'estalecimento_noFantasia': 'CENTRO DE SAUDE JAQUELINE', 'document_id': '66acd2d3-a72e-4625-a671-6a1f7535ae8c-i0b0', 'vacina_categoria_nome': 'Trabalhadores de Saúde', 'id_sistema_origem': '19788', 'vacina_fabricante_nome': 'PFIZER - PEDIÁTRICA', 'estabelecimento_municipio_codigo': '310620', 'data_importacao_datalake': '2023-09-13T18:42:30.000Z', 'co_condicao_maternal': None, 'vacina_fabricante_referencia': None, 'vacina_descricao_dose': 'Reforço', 'vacina_numDose': '38', 'vacina_dataAplicacao': '2023-06-27T00:00:00.000Z', 'paciente_enumSexoBiologico': 'F', 'paciente_idade': 10, 'data_importacao_rnds': '2023-06-27T13:54:11.000Z', 'paciente_endereco_cep': '31748', 'vacina_grupoAtendimento_codigo': '000926', '@version': '1', 'vacina_grupoAtendimento_nome': 'Outros', 'vacina_nome': 'COVID-19 PFIZER - COMIRNATY PEDIÁTRICA', 'sistema_origem': 'SIGRAH', 'paciente_racaCor_valor': 'BRANCA', 'paciente_endereco_coPais': '10', 'paciente_endereco_nmPais': 'BRASIL', 'estabelecimento_municipio_nome': 'BELO HORIZONTE', 'vacina_codigo': '99'}}, {'_index': 'desc-imunizacao-v5', '_type': '_doc', '_id': '11f80589-1fbc-4326-a03f-d68ed4857d84-i0b0', '_score': 1.0, '_source': {'paciente_nacionalidade_enumNacionalidade': 'B', 'vacina_categoria_codigo': '2', 'paciente_endereco_nmMunicipio': 'BELO HORIZONTE', 'paciente_id': '126650bbcd905497c47b3add389694d92674a25b04bfbef50318cce10d76a071', 'paciente_dataNascimento': '1964-10-13', 'ds_condicao_maternal': None, 'estabelecimento_razaoSocial': 'MUNICIPIO DE BELO HORIZONTE', 'estabelecimento_valor': '9166793', 'estabelecimento_uf': 'MG', 'paciente_endereco_coIbgeMunicipio': '310620', 'dt_deleted': '2023-09-13T00:00:00.000Z', '@timestamp': '2023-09-13T21:15:43.022Z', 'status': 'entered-in-error', 'paciente_endereco_uf': 'MG', 'vacina_lote': 'FT5177', 'paciente_racaCor_codigo': '99', 'estalecimento_noFantasia': 'CENTRO DE SAUDE ALAMEDA DOS IPES', 'document_id': '11f80589-1fbc-4326-a03f-d68ed4857d84-i0b0', 'vacina_categoria_nome': 'Faixa Etária', 'id_sistema_origem': '19788', 'vacina_fabricante_nome': 'PFIZER', 'estabelecimento_municipio_codigo': '310620', 'data_importacao_datalake': '2023-09-13T18:42:30.000Z', 'co_condicao_maternal': None, 'vacina_fabricante_referencia': None, 'vacina_descricao_dose': 'Reforço', 'vacina_numDose': '38', 'vacina_dataAplicacao': '2023-01-04T00:00:00.000Z', 'paciente_enumSexoBiologico': 'M', 'paciente_idade': 58, 'data_importacao_rnds': '2023-01-04T15:13:43.000Z', 'paciente_endereco_cep': '31525', 'vacina_grupoAtendimento_codigo': '000201', '@version': '1', 'vacina_grupoAtendimento_nome': 'Pessoas de 18 a 64 anos', 'vacina_nome': 'COVID-19 PFIZER - COMIRNATY', 'sistema_origem': 'SIGRAH', 'paciente_racaCor_valor': 'SEM INFORMACAO', 'paciente_endereco_coPais': '10', 'paciente_endereco_nmPais': 'BRASIL', 'estabelecimento_municipio_nome': 'BELO HORIZONTE', 'vacina_codigo': '87'}}]}}\n"
          ]
        }
      ]
    },
    {
      "cell_type": "markdown",
      "source": [
        "## Processando os dados"
      ],
      "metadata": {
        "id": "O1lCfK7vVNmK"
      }
    },
    {
      "cell_type": "markdown",
      "source": [
        "## Analisando os dados"
      ],
      "metadata": {
        "id": "U3UoihlNVQ0C"
      }
    },
    {
      "cell_type": "markdown",
      "source": [
        "## Compartilhando os resultados"
      ],
      "metadata": {
        "id": "3PkyMl7OVSxd"
      }
    },
    {
      "cell_type": "markdown",
      "source": [
        "## Definindo planos de ação"
      ],
      "metadata": {
        "id": "L5-Kc1KaVWV_"
      }
    }
  ]
}